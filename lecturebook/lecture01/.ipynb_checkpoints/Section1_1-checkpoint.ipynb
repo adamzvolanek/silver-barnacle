{
 "cells": [
  {
   "cell_type": "markdown",
   "id": "4f8869c5-e307-4658-a618-e46eca16a267",
   "metadata": {
    "tags": []
   },
   "source": [
    "# Lecture 1.1 - What is a computer?\n",
    "\n",
    "## Computer Background\n",
    "Lorem ipsum..."
   ]
  },
  {
   "cell_type": "code",
   "execution_count": null,
   "id": "19443896-40ed-45ce-bd8d-f179a9528610",
   "metadata": {},
   "outputs": [],
   "source": [
    "# imports\n",
    "import random\n",
    "from matplotlib import pyplot as plt, animation"
   ]
  },
  {
   "cell_type": "code",
   "execution_count": null,
   "id": "14559659-1a13-497f-bb02-0ed024b884b5",
   "metadata": {},
   "outputs": [],
   "source": [
    "# helper methods\n",
    "def swap(A, i, j):\n",
    "    A[i], A[j] = A[j], A[i]"
   ]
  },
  {
   "cell_type": "code",
   "execution_count": null,
   "id": "1fc981a6-c0ae-4dda-8d17-f7441c9ff13c",
   "metadata": {},
   "outputs": [],
   "source": [
    "# algorithms\n",
    "def bubblesort(A):\n",
    "    swapped = True\n",
    "      \n",
    "    for i in range(len(A) - 1):\n",
    "        if not swapped:\n",
    "            return\n",
    "        swapped = False\n",
    "          \n",
    "        for j in range(len(A) - 1 - i):\n",
    "            if A[j] > A[j + 1]:\n",
    "                swap(A, j, j + 1)\n",
    "                swapped = True\n",
    "            yield A"
   ]
  },
  {
   "cell_type": "code",
   "execution_count": null,
   "id": "3543408e-9f49-4ff0-9e92-38c3069644c7",
   "metadata": {},
   "outputs": [],
   "source": [
    "def visualize():\n",
    "    N = 30\n",
    "    A = list(range(1, N + 1))\n",
    "    random.shuffle(A)\n",
    "      \n",
    "    # creates a generator object containing all \n",
    "    # the states of the array while performing \n",
    "    # sorting algorithm\n",
    "    generator = bubblesort(A)\n",
    "      \n",
    "    # creates a figure and subsequent subplots\n",
    "    fig, ax = plt.subplots()\n",
    "    ax.set_title(\"Bubble Sort O(n\\N{SUPERSCRIPT TWO})\")\n",
    "    bar_sub = ax.bar(range(len(A)), A, align=\"edge\")\n",
    "      \n",
    "    # sets the maximum limit for the x-axis\n",
    "    ax.set_xlim(0, N)\n",
    "    text = ax.text(0.02, 0.95, \"\", transform=ax.transAxes)\n",
    "    iteration = [0]\n",
    "      \n",
    "    # helper function to update each frame in plot\n",
    "    def update(A, rects, iteration):\n",
    "        for rect, val in zip(rects, A):\n",
    "            rect.set_height(val)\n",
    "        iteration[0] += 1\n",
    "        text.set_text(f\"# of operations: {iteration[0]}\")\n",
    "  \n",
    "    # creating animation object for rendering the iteration\n",
    "    anim = animation.FuncAnimation(\n",
    "        fig,\n",
    "        func=update,\n",
    "        fargs=(bar_sub, iteration),\n",
    "        frames=generator,\n",
    "        repeat=True,\n",
    "        blit=False,\n",
    "        interval=15,\n",
    "        save_count=90000,\n",
    "    )\n",
    "      \n",
    "    # for showing the animation on screen\n",
    "    plt.show()\n",
    "    plt.close()"
   ]
  },
  {
   "cell_type": "code",
   "execution_count": null,
   "id": "d05611d4-54c6-4fd7-8b47-fe21d5ca42e8",
   "metadata": {},
   "outputs": [],
   "source": [
    "if __name__ == \"__main__\":\n",
    "    visualize()"
   ]
  }
 ],
 "metadata": {
  "kernelspec": {
   "display_name": "Python 3 (ipykernel)",
   "language": "python",
   "name": "python3"
  },
  "language_info": {
   "codemirror_mode": {
    "name": "ipython",
    "version": 3
   },
   "file_extension": ".py",
   "mimetype": "text/x-python",
   "name": "python",
   "nbconvert_exporter": "python",
   "pygments_lexer": "ipython3",
   "version": "3.8.13"
  }
 },
 "nbformat": 4,
 "nbformat_minor": 5
}
