{
 "cells": [
  {
   "cell_type": "markdown",
   "metadata": {
    "tags": [
     "Home"
    ]
   },
   "source": [
    "# Preface\n",
    "\n",
    "These are the lecture notes for Computing 101 that are to act as a reference for students and as an outline for the semester.\n",
    "\n",
    "\n",
    "## Course description\n",
    "\n",
    "This course provides an introduction to data science for individuals with no prior knowledge of data science or machine learning. The course starts with an extensive review of probability theory as the language of uncertainty, discusses Monte Carlo sampling for uncertainty propagation, covers the basics of supervised (Bayesian generalized linear regression, logistic regression, Gaussian processes, deep neural networks, convolutional neural networks), unsupervised learning (k-means clustering, principal component analysis, Gaussian mixtures) and state space models (Kalman filters). The course also reviews the state-of-the-art in physics-informed deep learning and ends with a discussion of automated Bayesian inference using probabilistic programming (Markov chain Monte Carlo, sequential Monte Carlo, and variational inference). Throughout the course, the instructor follows a probabilistic perspective that highlights the first principles behind the presented methods with the ultimate goal of teaching the student how to create and fit their own models. \n",
    "\n",
    "This course provides an introuction to the basics of computing including:\n",
    "\n",
    "## Course learning outcomes\n",
    "After completing this course, you will be able to: \n",
    "+ What is a computer, and their brief history\n",
    "+ Hardware\n",
    "    + CPU, RAM, Ports\n",
    "+ Software\n",
    "    + Operating Systems, Binary, Memories\n",
    "+ Networking\n",
    "    + ISPs, IP addresses, DNS\n",
    "    + Networking Traffic Outlined (Difference between LAN and Internet)\n",
    "    + Types of cabling and standards\n",
    "+ Troubleshooting\n",
    "+ Security\n",
    "    + Overview\n",
    "+ File Management\n",
    "    + How files are organized in comptuers\n",
    "+ Internet\n",
    "    + URLs, Search Engines, Cookies, Protocols\n",
    "+ Intro to Programming\n",
    "    + Show-case of what it is, what it does\n",
    "+ Social / Ethics\n",
    "    + Intellectual Property, Pirating, Recycling, E-Waste\n",
    "+ Microsoft Office Suite\n",
    "    + Word, Powerpoint, Excel\n",
    "\n",
    "## Prerequisites\n",
    "+ Basic identification of consumer computer hardware: laptop, desktop, monitor, mouse, keyboard.\n",
    "+ Understanding on basic operating system operations: power-on, power-off, opening/closing windows, and file management.\n",
    "+ Basics of using a mouse and keyboard.\n",
    "+ Desire to learn computer literarcy, office software, and basic computer hardware troubleshooting.\n",
    "\n",
    "## What if I am worried about meeting prerequisites?\n",
    "We are happy to accomodate and provide additional learning opportunities for those concerned of meeting any pre-requisites. This course is intended for those with elementary knowledge and to gain confidence in achieveing basic computer literacy."
   ]
  }
 ],
 "metadata": {
  "kernelspec": {
   "display_name": "Python 3 (ipykernel)",
   "language": "python",
   "name": "python3"
  },
  "language_info": {
   "codemirror_mode": {
    "name": "ipython",
    "version": 3
   },
   "file_extension": ".py",
   "mimetype": "text/x-python",
   "name": "python",
   "nbconvert_exporter": "python",
   "pygments_lexer": "ipython3",
   "version": "3.8.13"
  },
  "widgets": {
   "application/vnd.jupyter.widget-state+json": {
    "state": {},
    "version_major": 2,
    "version_minor": 0
   }
  }
 },
 "nbformat": 4,
 "nbformat_minor": 4
}
